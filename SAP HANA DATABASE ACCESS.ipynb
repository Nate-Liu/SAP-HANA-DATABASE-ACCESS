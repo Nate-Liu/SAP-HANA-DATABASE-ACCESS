{
 "cells": [
  {
   "cell_type": "code",
   "execution_count": null,
   "metadata": {},
   "outputs": [],
   "source": [
    "# OPEN CMD\n",
    "cd C:\\SDK for SAP Cloud Platform NEW\\tools\n",
    "neo open-db-tunnel -h ap1.hana.ondemand.com -a c63cd09a2 -u s0018049745 -i ym8 -p \\UDR@7G("
   ]
  },
  {
   "cell_type": "code",
   "execution_count": 1,
   "metadata": {},
   "outputs": [],
   "source": [
    "import numpy as np\n",
    "import pandas as pd\n",
    "import pyhdb\n",
    "import numpy as np\n",
    "\n",
    "\n",
    "# Connecting to the Database and without the Column Name\n",
    "connection = pyhdb.connect('localhost', 30115, 'SCHEMA', 'PwD')\n",
    "cursor = connection.cursor()\n",
    "cursor.execute(\"\"\"\n",
    "SELECT * FROM TABLE\n",
    "                         \"\"\")\n",
    "# ab = cursor.fetchall()\n",
    "data = pd.DataFrame(cursor.fetchall())\n",
    "# Create and attach the column headings to the Dataframe\n",
    "data.columns = pd.DataFrame(np.matrix(cursor.description))[0]\n",
    "data.to_csv('FILE_NAME.csv', index = False)"
   ]
  }
 ],
 "metadata": {
  "kernelspec": {
   "display_name": "Python 3",
   "language": "python",
   "name": "python3"
  },
  "language_info": {
   "codemirror_mode": {
    "name": "ipython",
    "version": 3
   },
   "file_extension": ".py",
   "mimetype": "text/x-python",
   "name": "python",
   "nbconvert_exporter": "python",
   "pygments_lexer": "ipython3",
   "version": "3.6.2"
  }
 },
 "nbformat": 4,
 "nbformat_minor": 2
}
